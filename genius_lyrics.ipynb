{
 "cells": [
  {
   "cell_type": "code",
   "execution_count": 10,
   "metadata": {},
   "outputs": [],
   "source": [
    "import lyricsgenius as lg\n",
    "import pandas as pd"
   ]
  },
  {
   "cell_type": "code",
   "execution_count": 3,
   "metadata": {},
   "outputs": [
    {
     "name": "stdout",
     "output_type": "stream",
     "text": [
      "Searching for songs by Taylor Swift...\n",
      "\n",
      "Song 1: \"All Too Well (10 Minute Version) (Taylor’s Version) [From the Vault]\"\n",
      "Song 2: \"All Too Well (10 Minute Version) (Taylor’s Version) [Live Acoustic]\"\n",
      "Song 3: \"​cardigan\"\n",
      "Song 4: \"​exile\"\n",
      "Song 5: \"Lover\"\n",
      "Song 6: \"​the 1\"\n",
      "Song 7: \"​august\"\n",
      "Song 8: \"Look What You Made Me Do\"\n",
      "Song 9: \"​betty\"\n",
      "Song 10: \"​champagne problems\"\n",
      "\n",
      "Reached user-specified song limit (10).\n",
      "Done. Found 10 songs.\n"
     ]
    }
   ],
   "source": [
    "genius = lg.Genius('fO3Mz8qdCJUH-z18bLR5ZPGIO1YI2Ag40dwmkt8CeaTmR2zR7CwWB143SrMkr4ep', skip_non_songs=True, remove_section_headers=True)\n",
    "t_swift = genius.search_artist('Taylor Swift',max_songs=10, sort='popularity')"
   ]
  },
  {
   "cell_type": "code",
   "execution_count": 26,
   "metadata": {},
   "outputs": [
    {
     "name": "stdout",
     "output_type": "stream",
     "text": [
      "All Too Well (10 Minute Version) (Taylor’s Version) [From the Vault]\n",
      "All Too Well (10 Minute Version) (Taylor’s Version) [Live Acoustic]\n",
      "​cardigan\n",
      "​exile\n",
      "Lover\n",
      "​the 1\n"
     ]
    },
    {
     "name": "stderr",
     "output_type": "stream",
     "text": [
      "/var/folders/tn/l_qlcf3x58xfdgcn9444x8yh0000gn/T/ipykernel_21509/3939861385.py:5: FutureWarning: The frame.append method is deprecated and will be removed from pandas in a future version. Use pandas.concat instead.\n",
      "  output_df = output_df.append(temp)\n",
      "/var/folders/tn/l_qlcf3x58xfdgcn9444x8yh0000gn/T/ipykernel_21509/3939861385.py:5: FutureWarning: The frame.append method is deprecated and will be removed from pandas in a future version. Use pandas.concat instead.\n",
      "  output_df = output_df.append(temp)\n",
      "/var/folders/tn/l_qlcf3x58xfdgcn9444x8yh0000gn/T/ipykernel_21509/3939861385.py:5: FutureWarning: The frame.append method is deprecated and will be removed from pandas in a future version. Use pandas.concat instead.\n",
      "  output_df = output_df.append(temp)\n",
      "/var/folders/tn/l_qlcf3x58xfdgcn9444x8yh0000gn/T/ipykernel_21509/3939861385.py:5: FutureWarning: The frame.append method is deprecated and will be removed from pandas in a future version. Use pandas.concat instead.\n",
      "  output_df = output_df.append(temp)\n"
     ]
    },
    {
     "name": "stdout",
     "output_type": "stream",
     "text": [
      "​august\n",
      "Look What You Made Me Do\n",
      "​betty\n",
      "​champagne problems\n"
     ]
    },
    {
     "name": "stderr",
     "output_type": "stream",
     "text": [
      "/var/folders/tn/l_qlcf3x58xfdgcn9444x8yh0000gn/T/ipykernel_21509/3939861385.py:5: FutureWarning: The frame.append method is deprecated and will be removed from pandas in a future version. Use pandas.concat instead.\n",
      "  output_df = output_df.append(temp)\n",
      "/var/folders/tn/l_qlcf3x58xfdgcn9444x8yh0000gn/T/ipykernel_21509/3939861385.py:5: FutureWarning: The frame.append method is deprecated and will be removed from pandas in a future version. Use pandas.concat instead.\n",
      "  output_df = output_df.append(temp)\n",
      "/var/folders/tn/l_qlcf3x58xfdgcn9444x8yh0000gn/T/ipykernel_21509/3939861385.py:5: FutureWarning: The frame.append method is deprecated and will be removed from pandas in a future version. Use pandas.concat instead.\n",
      "  output_df = output_df.append(temp)\n",
      "/var/folders/tn/l_qlcf3x58xfdgcn9444x8yh0000gn/T/ipykernel_21509/3939861385.py:5: FutureWarning: The frame.append method is deprecated and will be removed from pandas in a future version. Use pandas.concat instead.\n",
      "  output_df = output_df.append(temp)\n"
     ]
    },
    {
     "name": "stdout",
     "output_type": "stream",
     "text": [
      "0    All Too Well (10 Minute Version) (Taylor’s Ver...\n",
      "0    All Too Well (10 Minute Version) (Taylor’s Ver...\n",
      "0                                            ​cardigan\n",
      "0                                               ​exile\n",
      "0                                                Lover\n",
      "0                                               ​the 1\n",
      "0                                              ​august\n",
      "0                             Look What You Made Me Do\n",
      "0                                               ​betty\n",
      "0                                  ​champagne problems\n",
      "Name: Song Name, dtype: object\n"
     ]
    }
   ],
   "source": [
    "output_df=pd.DataFrame()\n",
    "for song in t_swift.songs:\n",
    "    print(song.title)\n",
    "    temp = pd.DataFrame({'Song Name':[song.title], 'Artist':[song.artist],'Lyrics':[song.lyrics.split('Lyrics\\n')[1]]})\n",
    "    output_df = output_df.append(temp)\n",
    "print(output_df['Song Name'])"
   ]
  },
  {
   "cell_type": "code",
   "execution_count": 27,
   "metadata": {},
   "outputs": [],
   "source": [
    "output_df.to_csv('genius_lyrics_output.csv',index=False)"
   ]
  },
  {
   "cell_type": "code",
   "execution_count": null,
   "metadata": {},
   "outputs": [],
   "source": []
  }
 ],
 "metadata": {
  "kernelspec": {
   "display_name": "base",
   "language": "python",
   "name": "python3"
  },
  "language_info": {
   "codemirror_mode": {
    "name": "ipython",
    "version": 3
   },
   "file_extension": ".py",
   "mimetype": "text/x-python",
   "name": "python",
   "nbconvert_exporter": "python",
   "pygments_lexer": "ipython3",
   "version": "3.9.12"
  },
  "orig_nbformat": 4,
  "vscode": {
   "interpreter": {
    "hash": "029fbaff4151e4e1822699fbe028a9961b0c4432ebfdd45baf1e0f636b4d0b09"
   }
  }
 },
 "nbformat": 4,
 "nbformat_minor": 2
}
