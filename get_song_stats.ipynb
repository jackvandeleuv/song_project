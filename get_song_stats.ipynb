{
 "cells": [
  {
   "cell_type": "code",
   "execution_count": 41,
   "metadata": {},
   "outputs": [],
   "source": [
    "import requests\n",
    "import json\n",
    "from typing import Dict, List"
   ]
  },
  {
   "cell_type": "code",
   "execution_count": 42,
   "metadata": {},
   "outputs": [],
   "source": [
    "def get_artist_id(artist_name: str, access_token: str) -> str:\n",
    "    url = 'https://api.spotify.com/v1/search'\n",
    "    params = {\n",
    "        'q': f'{artist_name}',\n",
    "        'type': 'artist',\n",
    "    }\n",
    "\n",
    "    headers = {\n",
    "        'Authorization': f'Bearer {access_token}',\n",
    "    }\n",
    "\n",
    "    response = requests.get(url, headers=headers, params=params)\n",
    "\n",
    "    if response.status_code == 200:\n",
    "        artists = response.json()['artists']['items']\n",
    "        if len(artists) > 0:\n",
    "            return artists[0]['id']\n",
    "    else:\n",
    "        print('Error: status code', response.status_code)"
   ]
  },
  {
   "cell_type": "code",
   "execution_count": 43,
   "metadata": {},
   "outputs": [],
   "source": [
    "# Note, for now replaced this to directly get track information.\n",
    "# Returns a list of dicts with each dict representing an album\n",
    "def get_album_data(artist_id: str, access_token: str) -> List[Dict]:\n",
    "    url = 'https://api.spotify.com/v1/search?q=artist%3A%22Taylor+Swift%22&type=track'\n",
    "\n",
    "    headers = {\n",
    "        \"Authorization\": f\"Bearer {access_token}\",\n",
    "        \"Content-Type\": \"application/json\"\n",
    "    }\n",
    "    params = {\n",
    "        'q': 'artist:Taylor Swift',\n",
    "        'type': 'track',\n",
    "        'market': 'PK'\n",
    "    }\n",
    "\n",
    "    response = requests.get(url, headers=headers, params=params)\n",
    "\n",
    "    if response.status_code == 200:\n",
    "        json_data = json.dumps(response.json()['tracks']['items'])\n",
    "    else:\n",
    "        print(\"Error:\", response.status_code, response.text)\n",
    "\n",
    "    print(json.dumps(json.loads(json_data), indent=4))\n",
    "\n",
    "    return response.json()['tracks']['items']\n",
    "\n"
   ]
  },
  {
   "cell_type": "code",
   "execution_count": 44,
   "metadata": {},
   "outputs": [],
   "source": [
    "import requests\n",
    "import json\n",
    "from typing import List, Dict\n",
    "\n",
    "# Returns a list of dicts with each dict representing an album\n",
    "def get_album_ids(artist_id: str, access_token: str) -> List[Dict]:\n",
    "    url = f'https://api.spotify.com/v1/artists/{artist_id}/top_tracks'\n",
    "\n",
    "    headers = {\n",
    "        \"Authorization\": f\"Bearer {access_token}\",\n",
    "        \"Content-Type\": \"application/json\"\n",
    "    }\n",
    "    params = {\n",
    "        'market': 'US',\n",
    "        'limit': 50\n",
    "    }\n",
    "\n",
    "    response = requests.get(url, headers=headers, params=params)\n",
    "\n",
    "    if response.status_code == 200:\n",
    "        track_data = response.json()['tracks']\n",
    "    else:\n",
    "        print(\"Error:\", response.status_code, response.text)\n",
    "        return []\n",
    "\n",
    "    # Get audio features for each track\n",
    "    for track in track_data:\n",
    "        url = f'https://api.spotify.com/v1/audio-features/{track[\"id\"]}'\n",
    "\n",
    "        response = requests.get(url, headers=headers)\n",
    "\n",
    "        if response.status_code == 200:\n",
    "            audio_features = response.json()\n",
    "        else:\n",
    "            print(\"Error:\", response.status_code, response.text)\n",
    "            continue\n",
    "\n",
    "        # Add audio features to track data\n",
    "        track.update(audio_features)\n",
    "\n",
    "    return track_data\n"
   ]
  },
  {
   "cell_type": "code",
   "execution_count": 45,
   "metadata": {},
   "outputs": [
    {
     "name": "stdout",
     "output_type": "stream",
     "text": [
      "Error: 404 \n"
     ]
    },
    {
     "ename": "IndexError",
     "evalue": "list index out of range",
     "output_type": "error",
     "traceback": [
      "\u001b[1;31m---------------------------------------------------------------------------\u001b[0m",
      "\u001b[1;31mIndexError\u001b[0m                                Traceback (most recent call last)",
      "Cell \u001b[1;32mIn[45], line 7\u001b[0m\n\u001b[0;32m      5\u001b[0m \u001b[39m# albums: List[Dict] = get_album_data(artist_id, ACCESS_TOKEN)\u001b[39;00m\n\u001b[0;32m      6\u001b[0m albums: List[Dict] \u001b[39m=\u001b[39m get_album_ids(artist_id, ACCESS_TOKEN)\n\u001b[1;32m----> 7\u001b[0m \u001b[39mprint\u001b[39m(albums[\u001b[39m0\u001b[39;49m])\n\u001b[0;32m      8\u001b[0m \u001b[39mfor\u001b[39;00m i \u001b[39min\u001b[39;00m \u001b[39mrange\u001b[39m(\u001b[39mlen\u001b[39m(albums)):\n\u001b[0;32m      9\u001b[0m     album: Dict \u001b[39m=\u001b[39m albums[i]\n",
      "\u001b[1;31mIndexError\u001b[0m: list index out of range"
     ]
    }
   ],
   "source": [
    "ARTIST_NAME: str = 'Taylor Swift'\n",
    "ACCESS_TOKEN = 'BQCrn3u-rHm8bE5KfVgpgumZszdSoOxgrweDXjBv5-oWVxKsXvBG7yiKyBWT6dZh3JtVtConWaOjdcdEzg0j--cdAaFKvL4aco9TMYmHSs6GN5WJoJwKT55KOMLRMJvB6h8LQuvrQD4XzcSU-Y-OAWvwa0rytd3AhCXJLoL8MWtBfvoZHdGDpu4jRkds5I4uXusT'\n",
    "\n",
    "artist_id: str = get_artist_id(ARTIST_NAME, ACCESS_TOKEN)\n",
    "# albums: List[Dict] = get_album_data(artist_id, ACCESS_TOKEN)\n",
    "albums: List[Dict] = get_album_ids(artist_id, ACCESS_TOKEN)\n",
    "print(albums[0])\n",
    "for i in range(len(albums)):\n",
    "    album: Dict = albums[i]\n",
    "    print('Album #', i)\n",
    "    print('Name:', album['name'])\n",
    "    print('Popularity', album['popularity'])\n",
    "    print('Is explicit:', album['explicit'])\n",
    "    print('Duration (ms):', album['duration_ms'])\n",
    "    print('Danceability:', album['danceability'])\n",
    "    print('Energy:', album['energy'])\n",
    "    print('Key:', album['key'])\n",
    "    print('Loudness:', album['loudness'])\n",
    "    print('Mode:', album['mode'])\n",
    "    print('Speechiness:', album['speechiness'])\n",
    "    print('Acousticness:', album['acousticness'])\n",
    "    print('Instrumentalness:', album['instrumentalness'])\n",
    "    print('Liveness:', album['liveness'])\n",
    "    print('Valence:', album['valence'])\n",
    "    print('Tempo:', album['tempo'])\n",
    "    print('Time Signature:', album['time_signature'])\n",
    "\n",
    "    print('\\n')"
   ]
  }
 ],
 "metadata": {
  "kernelspec": {
   "display_name": "base",
   "language": "python",
   "name": "python3"
  },
  "language_info": {
   "codemirror_mode": {
    "name": "ipython",
    "version": 3
   },
   "file_extension": ".py",
   "mimetype": "text/x-python",
   "name": "python",
   "nbconvert_exporter": "python",
   "pygments_lexer": "ipython3",
   "version": "3.9.13"
  },
  "orig_nbformat": 4,
  "vscode": {
   "interpreter": {
    "hash": "08dda85ff3eed27e021538f884514942bf23697aea11a618f005da4f18a9508c"
   }
  }
 },
 "nbformat": 4,
 "nbformat_minor": 2
}
