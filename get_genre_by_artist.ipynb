{
 "cells": [
  {
   "cell_type": "code",
   "execution_count": 12,
   "metadata": {},
   "outputs": [],
   "source": [
    "import requests\n",
    "\n",
    "\n",
    "TOKEN = 'BQDqzTaiBLLC6XaeT13j8jXcpNg83LdXihi9rr16tRGOGLR5LjjCNP94ssKa4m6lKJWILCJ-OW8sL3tyQInr8qYtiqS56623YAR9saNA7JTJDrcqUjOGZ9S3pdUOdii_s8D1FPZJbhuOX2ife1KObF9geRodP7qHS2dIduf_rRgdbyGeAYNKJgZatTES1dJnYVTxAFuY'"
   ]
  },
  {
   "cell_type": "code",
   "execution_count": 13,
   "metadata": {},
   "outputs": [
    {
     "name": "stdout",
     "output_type": "stream",
     "text": [
      "Artist ID: 06HL4z0CvFAxyc27GXpf02\n"
     ]
    }
   ],
   "source": [
    "\n",
    "# Set the API endpoint and query parameters\n",
    "url = 'https://api.spotify.com/v1/search'\n",
    "params = {\n",
    "    'q': 'Taylor Swift',\n",
    "    'type': 'artist',\n",
    "}\n",
    "\n",
    "# Set the authorization header with your access token\n",
    "headers = {\n",
    "    'Authorization': f'Bearer {TOKEN}',\n",
    "}\n",
    "\n",
    "# Make the API request\n",
    "response = requests.get(url, headers=headers, params=params)\n",
    "\n",
    "# Extract the artist ID from the response\n",
    "if response.status_code == 200:\n",
    "    artists = response.json()['artists']['items']\n",
    "    if len(artists) > 0:\n",
    "        artist_id = artists[0]['id']\n",
    "        print('Artist ID:', artist_id)\n",
    "    else:\n",
    "        print('No artist found.')\n",
    "else:\n",
    "    print('Error: status code', response.status_code)\n"
   ]
  },
  {
   "cell_type": "code",
   "execution_count": 14,
   "metadata": {},
   "outputs": [
    {
     "name": "stdout",
     "output_type": "stream",
     "text": [
      "{'external_urls': {'spotify': 'https://open.spotify.com/artist/06HL4z0CvFAxyc27GXpf02'}, 'followers': {'href': None, 'total': 68307098}, 'genres': ['pop'], 'href': 'https://api.spotify.com/v1/artists/06HL4z0CvFAxyc27GXpf02', 'id': '06HL4z0CvFAxyc27GXpf02', 'images': [{'height': 640, 'url': 'https://i.scdn.co/image/ab6761610000e5eb5a00969a4698c3132a15fbb0', 'width': 640}, {'height': 320, 'url': 'https://i.scdn.co/image/ab676161000051745a00969a4698c3132a15fbb0', 'width': 320}, {'height': 160, 'url': 'https://i.scdn.co/image/ab6761610000f1785a00969a4698c3132a15fbb0', 'width': 160}], 'name': 'Taylor Swift', 'popularity': 100, 'type': 'artist', 'uri': 'spotify:artist:06HL4z0CvFAxyc27GXpf02'}\n"
     ]
    }
   ],
   "source": [
    "url = f'https://api.spotify.com/v1/artists/{artist_id}'\n",
    "# url = \"https://api.spotify.com/v1/search\"\n",
    "headers = {\n",
    "    \"Authorization\": f\"Bearer {TOKEN}\",\n",
    "    \"Content-Type\": \"application/json\"\n",
    "}\n",
    "params = {\n",
    "    'q': 'artist:Taylor Swift',\n",
    "    'type': 'track',\n",
    "}\n",
    "\n",
    "response = requests.get(url, headers=headers, params=params)\n",
    "\n",
    "if response.status_code == 200:\n",
    "    print(response.json())\n",
    "else:\n",
    "    print(\"Error:\", response.status_code, response.text)\n"
   ]
  },
  {
   "cell_type": "code",
   "execution_count": 15,
   "metadata": {},
   "outputs": [],
   "source": [
    "import pandas as pd\n",
    "spotify = response.json()"
   ]
  },
  {
   "cell_type": "code",
   "execution_count": 16,
   "metadata": {},
   "outputs": [
    {
     "ename": "KeyError",
     "evalue": "'tracks'",
     "output_type": "error",
     "traceback": [
      "\u001b[1;31m---------------------------------------------------------------------------\u001b[0m",
      "\u001b[1;31mKeyError\u001b[0m                                  Traceback (most recent call last)",
      "Cell \u001b[1;32mIn[16], line 1\u001b[0m\n\u001b[1;32m----> 1\u001b[0m under_tracks \u001b[39m=\u001b[39m spotify[\u001b[39m'\u001b[39;49m\u001b[39mtracks\u001b[39;49m\u001b[39m'\u001b[39;49m]\n\u001b[0;32m      2\u001b[0m \u001b[39mprint\u001b[39m(under_tracks\u001b[39m.\u001b[39mkeys())\n\u001b[0;32m      3\u001b[0m under_tracks[\u001b[39m'\u001b[39m\u001b[39mtotal\u001b[39m\u001b[39m'\u001b[39m]\n",
      "\u001b[1;31mKeyError\u001b[0m: 'tracks'"
     ]
    }
   ],
   "source": [
    "under_tracks = spotify['tracks']\n",
    "print(under_tracks.keys())\n",
    "under_tracks['total']"
   ]
  }
 ],
 "metadata": {
  "kernelspec": {
   "display_name": "base",
   "language": "python",
   "name": "python3"
  },
  "language_info": {
   "codemirror_mode": {
    "name": "ipython",
    "version": 3
   },
   "file_extension": ".py",
   "mimetype": "text/x-python",
   "name": "python",
   "nbconvert_exporter": "python",
   "pygments_lexer": "ipython3",
   "version": "3.9.13"
  },
  "orig_nbformat": 4,
  "vscode": {
   "interpreter": {
    "hash": "08dda85ff3eed27e021538f884514942bf23697aea11a618f005da4f18a9508c"
   }
  }
 },
 "nbformat": 4,
 "nbformat_minor": 2
}
